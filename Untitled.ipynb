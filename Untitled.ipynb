{
 "cells": [
  {
   "cell_type": "markdown",
   "id": "d774bb4d",
   "metadata": {},
   "source": [
    "# Визуализация"
   ]
  },
  {
   "cell_type": "markdown",
   "id": "33bf4912",
   "metadata": {},
   "source": [
    "## Входные данные"
   ]
  },
  {
   "cell_type": "code",
   "execution_count": 22,
   "id": "99d5d6c3",
   "metadata": {},
   "outputs": [
    {
     "name": "stdout",
     "output_type": "stream",
     "text": [
      "|     H     |     M     |\n",
      "|-----------|-----------|\n",
      "|    0.0    |    0.0    |\n",
      "|-----------|-----------|\n",
      "|  1180.938 |  2556.283 |\n",
      "|-----------|-----------|\n",
      "|  2440.104 |  4428.242 |\n",
      "|-----------|-----------|\n",
      "|  4031.793 |  6027.773 |\n",
      "|-----------|-----------|\n",
      "|  5229.511 |  6910.699 |\n",
      "|-----------|-----------|\n",
      "|  7626.041 |  8221.296 |\n",
      "|-----------|-----------|\n",
      "|  10699.36 |  9410.598 |\n",
      "|-----------|-----------|\n",
      "|  14474.99 |  10489.65 |\n",
      "|-----------|-----------|\n",
      "|  19641.84 |  11595.96 |\n",
      "|-----------|-----------|\n",
      "|  24962.42 |  12474.35 |\n",
      "|-----------|-----------|\n",
      "|  31840.19 |  13369.09 |\n",
      "|-----------|-----------|\n",
      "|  42980.77 |  14446.37 |\n",
      "|-----------|-----------|\n",
      "|  52399.15 |  15123.58 |\n",
      "|-----------|-----------|\n",
      "|  63757.78 |  15761.81 |\n",
      "|-----------|-----------|\n",
      "|  79328.52 |  16431.62 |\n",
      "|-----------|-----------|\n",
      "|  95193.2  |  16956.37 |\n",
      "|-----------|-----------|\n",
      "|  125468.2 |  17695.34 |\n",
      "|-----------|-----------|\n",
      "|  155054.4 |  18206.03 |\n",
      "|-----------|-----------|\n",
      "|  185547.2 |  18599.44 |\n",
      "|-----------|-----------|\n",
      "|  213781.0 |  18883.3  |\n",
      "|-----------|-----------|\n",
      "|  241325.7 |  19096.08 |\n",
      "|-----------|-----------|\n",
      "|  268296.1 |  19260.66 |\n",
      "|___________|___________|\n",
      "Температура среды T: 280\n"
     ]
    }
   ],
   "source": [
    "import math\n",
    "\n",
    "\n",
    "def add_row(num):\n",
    "    divider = (11 - len(str(num))) / 2\n",
    "    if round(divider) == divider:\n",
    "        d = int(divider)\n",
    "        return f\"{' ' * d}{num}{' ' * d}\"\n",
    "\n",
    "    l = int(math.ceil(divider))\n",
    "    r = int(math.floor(divider))\n",
    "    return f\"{' ' * l}{num}{' ' * r}\"\n",
    "\n",
    "\n",
    "def form_table(lines):\n",
    "    rows = ['|     H     |     M     |']\n",
    "    divider = '|-----------|-----------|'\n",
    "\n",
    "    for line in lines:\n",
    "        rows.append(divider)\n",
    "        mapped_line = list(map(float, line.split(' ')))\n",
    "        row_x = add_row(round(mapped_line[0], 5))\n",
    "        row_y = add_row(round(mapped_line[1], 5))\n",
    "        rows.append(f'|{row_x}|{row_y}|')\n",
    "\n",
    "    rows.append('|___________|___________|')\n",
    "    table = '\\n'.join(rows)\n",
    "    return table\n",
    "\n",
    "\n",
    "with open('input.txt') as f:\n",
    "    data = f.read().split('\\n')\n",
    "\n",
    "print(form_table(data))\n",
    "\n",
    "T = 280\n",
    "n = len(data)\n",
    "print(f'Температура среды T: {T}')"
   ]
  },
  {
   "cell_type": "code",
   "execution_count": 23,
   "id": "bf76a1db",
   "metadata": {
    "scrolled": false
   },
   "outputs": [
    {
     "data": {
      "image/png": "[encoded data removed]",
      "text/plain": [
       "<Figure size 640x480 with 1 Axes>"
      ]
     },
     "metadata": {},
     "output_type": "display_data"
    }
   ],
   "source": [
    "import matplotlib.pyplot as plt\n",
    "\n",
    "\n",
    "input_data = []\n",
    "for line in data:\n",
    "    mapped_line = map(float, line.split(' '))\n",
    "    point = list(mapped_line)\n",
    "    input_data.append(point)\n",
    "\n",
    "H = list(map(lambda e: e[0], input_data))\n",
    "M = list(map(lambda e: e[1], input_data))\n",
    "\n",
    "plt.grid()\n",
    "plt.plot(H, M)\n",
    "plt.show()"
   ]
  },
  {
   "cell_type": "markdown",
   "id": "89dc4293",
   "metadata": {},
   "source": [
    "$$M_L = \\rho\\sum\\limits_{k=1}^I{\\mu_kp_kL(\\frac{\\mu_0\\mu_kH}{k_BT})}$$\n",
    "Где:\n",
    "* $\\rho$ - концентрация частиц\n",
    "* $I$ - количество фракций, на которые разбиваются частицы по размеру\n",
    "* $p_k=\\frac{\\rho_k}{\\rho}$ - отношение частиц k-ой фракции к общей концентрации. Тогда $\\sum\\limits_{k=1}^I{p_k} = 1$\n",
    "* $L(z)=\\coth{z} - \\frac{1}{z}$ - функция Ланжевена\n",
    "* $\\mu_0$ - магнитная проницаемость вакуума\n",
    "* $k_B$ - постоянная Больцмана\n",
    "* $T$ - абсолютная температура"
   ]
  },
  {
   "cell_type": "markdown",
   "id": "d2bf3486",
   "metadata": {},
   "source": [
    "Приведем величин к безразмерным. Для этого введем реперные значения:"
   ]
  },
  {
   "cell_type": "code",
   "execution_count": 24,
   "id": "7824caab",
   "metadata": {},
   "outputs": [
    {
     "name": "stdout",
     "output_type": "stream",
     "text": [
      "Реперное значение темературы: 293 K\n",
      "Реперное значение mu: 1e-19 А²∙м\n",
      "Реперное значение H: 100 кА/м\n",
      "Реперное значение ro: 10000000000000000000000 1/м^3\n"
     ]
    }
   ],
   "source": [
    "T_r = 293\n",
    "mu_r = 10 ** (-19)\n",
    "H_r = 100\n",
    "ro_r = 10 ** 22\n",
    "\n",
    "mu_0 = 1.256637 * 10 ** (-6)\n",
    "k_b = 1.380649 * 10 ** (-23)\n",
    "\n",
    "print(f\"Реперное значение темературы: {T_r} K\")\n",
    "print(f\"Реперное значение mu: {mu_r} А²∙м\")\n",
    "print(f\"Реперное значение H: {H_r} кА/м\")\n",
    "print(f\"Реперное значение ro: {ro_r} 1/м^3\")"
   ]
  },
  {
   "cell_type": "markdown",
   "id": "2759269e",
   "metadata": {},
   "source": [
    "Таблица входных данных с безразмерными величинами:"
   ]
  },
  {
   "cell_type": "code",
   "execution_count": 25,
   "id": "3049764e",
   "metadata": {},
   "outputs": [
    {
     "name": "stdout",
     "output_type": "stream",
     "text": [
      "|     H     |     M     |\n",
      "|-----------|-----------|\n",
      "|    0.0    |    0.0    |\n",
      "|-----------|-----------|\n",
      "|  11.80938 |  0.13272  |\n",
      "|-----------|-----------|\n",
      "|  24.40104 |  0.22991  |\n",
      "|-----------|-----------|\n",
      "|  40.31793 |  0.31296  |\n",
      "|-----------|-----------|\n",
      "|  52.29511 |   0.3588  |\n",
      "|-----------|-----------|\n",
      "|  76.26041 |  0.42684  |\n",
      "|-----------|-----------|\n",
      "|  106.9936 |  0.48859  |\n",
      "|-----------|-----------|\n",
      "|  144.7499 |  0.54462  |\n",
      "|-----------|-----------|\n",
      "|  196.4184 |  0.60205  |\n",
      "|-----------|-----------|\n",
      "|  249.6242 |  0.64766  |\n",
      "|-----------|-----------|\n",
      "|  318.4019 |  0.69411  |\n",
      "|-----------|-----------|\n",
      "|  429.8077 |  0.75005  |\n",
      "|-----------|-----------|\n",
      "|  523.9915 |  0.78521  |\n",
      "|-----------|-----------|\n",
      "|  637.5778 |  0.81834  |\n",
      "|-----------|-----------|\n",
      "|  793.2852 |  0.85312  |\n",
      "|-----------|-----------|\n",
      "|  951.932  |  0.88036  |\n",
      "|-----------|-----------|\n",
      "|  1254.682 |  0.91873  |\n",
      "|-----------|-----------|\n",
      "|  1550.544 |  0.94524  |\n",
      "|-----------|-----------|\n",
      "|  1855.472 |  0.96567  |\n",
      "|-----------|-----------|\n",
      "|  2137.81  |  0.98041  |\n",
      "|-----------|-----------|\n",
      "|  2413.257 |  0.99146  |\n",
      "|-----------|-----------|\n",
      "|  2682.961 |    1.0    |\n",
      "|___________|___________|\n",
      "Реперное значение M: 19260.66 кА/м\n"
     ]
    }
   ],
   "source": [
    "H_w = [h / H_r for h in H]\n",
    "M_r = max(M)\n",
    "M_w = [m / M_r for m in M]\n",
    "\n",
    "lines = []\n",
    "for i, h in enumerate(H_w):\n",
    "    lines.append(f'{h} {M_w[i]}')\n",
    "\n",
    "print(form_table(lines))\n",
    "print(f\"Реперное значение M: {M_r} кА/м\")"
   ]
  },
  {
   "cell_type": "markdown",
   "id": "9c3387b2",
   "metadata": {},
   "source": [
    "Приведем формулу к безразмерному виду, где переменные со звездой - реперные значения, а с волной - абезрамеренные:\n",
    "$$\\tilde{M_L} = \\frac{\\rho_*\\mu_*}{M_*}\\tilde{\\rho}\\sum\\limits_{k=1}^I{p_k\\tilde{\\mu_k}L(\\frac{\\mu_0\\mu_*H_*}{k_BT}\\tilde{\\mu_k}\\tilde{H})}$$\n",
    "Введем обозначения коэффициентов:\n",
    "* $a = \\frac{\\rho_*\\mu_*}{M_*}$\n",
    "* $b = \\frac{\\mu_0\\mu_*H_*}{k_BT}$\n",
    "\n",
    "Тогда:\n",
    "$$\\tilde{M_L} = a\\tilde{\\rho}\\sum\\limits_{k=1}^I{p_k\\tilde{\\mu_k}L(b\\tilde{\\mu_k}\\tilde{H})}$$\n",
    "$\\mu_0 = 1.256637 * 10^{-6}$ H/A^2\n",
    "\n",
    "$k_B = 1.380649 * 10^{-23}$ Дж/К"
   ]
  },
  {
   "cell_type": "code",
   "execution_count": 26,
   "id": "e808e311",
   "metadata": {},
   "outputs": [
    {
     "name": "stdout",
     "output_type": "stream",
     "text": [
      "Посчитаем a и b:\n",
      "a: 0.05191930079239237\n",
      "b: 0.003250637407273163\n"
     ]
    }
   ],
   "source": [
    "print('Посчитаем a и b:')\n",
    "\n",
    "a = (ro_r * mu_r) / M_r\n",
    "b = (mu_0 * mu_r * H_r) / (k_b * T)\n",
    "\n",
    "print(f'a: {a}')\n",
    "print(f'b: {b}')"
   ]
  },
  {
   "cell_type": "code",
   "execution_count": 27,
   "id": "db04d269",
   "metadata": {},
   "outputs": [
    {
     "data": {
      "text/latex": [
       "Разобъем частицы на $I = 6$ фракций."
      ],
      "text/plain": [
       "<IPython.core.display.Latex object>"
      ]
     },
     "metadata": {},
     "output_type": "display_data"
    },
    {
     "data": {
      "text/latex": [
       "Будем считать, что $\\mu_k$ нам известно. Величины будут располагаться в $[-1.1; 1.3]$ с шагом $0.4$"
      ],
      "text/plain": [
       "<IPython.core.display.Latex object>"
      ]
     },
     "metadata": {},
     "output_type": "display_data"
    }
   ],
   "source": [
    "from IPython.display import display, Latex\n",
    "\n",
    "I = 6\n",
    "mu_min = -1.1\n",
    "mu_max = 1.3\n",
    "mu_step = 0.4\n",
    "display(Latex(f'Разобъем частицы на $I = {I}$ фракций.'))\n",
    "display(Latex(f'Будем считать, что $\\mu_k$ нам известно. Величины будут располагаться в $[{mu_min}; {mu_max}]$ с шагом ${mu_step}$'))"
   ]
  },
  {
   "cell_type": "markdown",
   "id": "ed5662b2",
   "metadata": {},
   "source": [
    "Получается в исходном абезразмеренном выражении 6 неизвестных: $\\tilde{\\rho}, p_k, k = 1..(I-1)$, $p_k = 1 - \\sum\\limits_{i=1}^{I - 1}{p_i}$\n",
    "\n",
    "Проведем минимизацию. Минимизировать будем выражение ($n$ - количество входных данных):\n",
    "$$\\sum\\limits_{j=1}^{n}{(\\tilde{M_L}(H_j) - \\tilde{M_j})^2}$$"
   ]
  },
  {
   "cell_type": "code",
   "execution_count": 30,
   "id": "f8231d90",
   "metadata": {},
   "outputs": [
    {
     "name": "stdout",
     "output_type": "stream",
     "text": [
      "m: [-1.1, -0.7000000000000001, -0.30000000000000004, 0.09999999999999998, 0.5, 0.9]\n",
      "optimizer: scipy_powell_cube\n"
     ]
    },
    {
     "ename": "TypeError",
     "evalue": "ufunc 'isnan' not supported for the input types, and the inputs could not be safely coerced to any supported types according to the casting rule ''safe''",
     "output_type": "error",
     "traceback": [
      "\u001b[1;31m---------------------------------------------------------------------------\u001b[0m",
      "\u001b[1;31mTypeError\u001b[0m                                 Traceback (most recent call last)",
      "Cell \u001b[1;32mIn[30], line 78\u001b[0m\n\u001b[0;32m     75\u001b[0m \u001b[38;5;28mprint\u001b[39m(\u001b[38;5;124mf\u001b[39m\u001b[38;5;124m\"\u001b[39m\u001b[38;5;124moptimizer: \u001b[39m\u001b[38;5;132;01m{\u001b[39;00moptimizer_name\u001b[38;5;132;01m}\u001b[39;00m\u001b[38;5;124m\"\u001b[39m)\n\u001b[0;32m     76\u001b[0m optimizer_func \u001b[38;5;241m=\u001b[39m optimizer_from_name(optimizer_name)\n\u001b[1;32m---> 78\u001b[0m best_val, best_x \u001b[38;5;241m=\u001b[39m \u001b[43moptimizer_func\u001b[49m\u001b[43m(\u001b[49m\u001b[38;5;28;43;01mlambda\u001b[39;49;00m\u001b[43m \u001b[49m\u001b[43mp\u001b[49m\u001b[43m:\u001b[49m\u001b[43m \u001b[49m\u001b[43moptimization_func\u001b[49m\u001b[43m(\u001b[49m\u001b[43mp\u001b[49m\u001b[43m,\u001b[49m\u001b[43m \u001b[49m\u001b[43mmus\u001b[49m\u001b[43m)\u001b[49m\u001b[43m,\u001b[49m\u001b[43m \u001b[49m\u001b[43mn_dim\u001b[49m\u001b[38;5;241;43m=\u001b[39;49m\u001b[38;5;241;43m6\u001b[39;49m\u001b[43m,\u001b[49m\u001b[43m \u001b[49m\u001b[43mn_trials\u001b[49m\u001b[38;5;241;43m=\u001b[39;49m\u001b[38;5;241;43m1500\u001b[39;49m\u001b[43m)\u001b[49m\n\u001b[0;32m     79\u001b[0m \u001b[38;5;28mprint\u001b[39m(\u001b[38;5;124mf\u001b[39m\u001b[38;5;124m\"\u001b[39m\u001b[38;5;124mval: \u001b[39m\u001b[38;5;132;01m{\u001b[39;00mbest_val\u001b[38;5;132;01m}\u001b[39;00m\u001b[38;5;124m\"\u001b[39m)\n\u001b[0;32m     80\u001b[0m \u001b[38;5;28mprint\u001b[39m(\u001b[38;5;124mf\u001b[39m\u001b[38;5;124m\"\u001b[39m\u001b[38;5;124mparams: \u001b[39m\u001b[38;5;132;01m{\u001b[39;00mbest_x\u001b[38;5;132;01m}\u001b[39;00m\u001b[38;5;124m\"\u001b[39m)\n",
      "File \u001b[1;32mc:\\users\\bkmz1\\pycharmprojects\\diplom\\venv\\lib\\site-packages\\humpday\\optimizers\\scipycube.py:40\u001b[0m, in \u001b[0;36mscipy_powell_cube\u001b[1;34m(objective, n_trials, n_dim, with_count)\u001b[0m\n\u001b[0;32m     39\u001b[0m \u001b[38;5;28;01mdef\u001b[39;00m \u001b[38;5;21mscipy_powell_cube\u001b[39m(objective, n_trials, n_dim, with_count\u001b[38;5;241m=\u001b[39m\u001b[38;5;28;01mFalse\u001b[39;00m):\n\u001b[1;32m---> 40\u001b[0m     \u001b[38;5;28;01mreturn\u001b[39;00m \u001b[43mscipy_cube\u001b[49m\u001b[43m(\u001b[49m\u001b[43mobjective\u001b[49m\u001b[38;5;241;43m=\u001b[39;49m\u001b[43mobjective\u001b[49m\u001b[43m,\u001b[49m\u001b[43m \u001b[49m\u001b[43mn_trials\u001b[49m\u001b[38;5;241;43m=\u001b[39;49m\u001b[43mn_trials\u001b[49m\u001b[43m,\u001b[49m\u001b[43m \u001b[49m\u001b[43mn_dim\u001b[49m\u001b[38;5;241;43m=\u001b[39;49m\u001b[43mn_dim\u001b[49m\u001b[43m,\u001b[49m\u001b[43m \u001b[49m\u001b[43mwith_count\u001b[49m\u001b[38;5;241;43m=\u001b[39;49m\u001b[43mwith_count\u001b[49m\u001b[43m,\u001b[49m\u001b[43m \u001b[49m\u001b[43mmethod\u001b[49m\u001b[38;5;241;43m=\u001b[39;49m\u001b[38;5;124;43m'\u001b[39;49m\u001b[38;5;124;43mpowell\u001b[39;49m\u001b[38;5;124;43m'\u001b[39;49m\u001b[43m)\u001b[49m\n",
      "File \u001b[1;32mc:\\users\\bkmz1\\pycharmprojects\\diplom\\venv\\lib\\site-packages\\humpday\\optimizers\\scipycube.py:29\u001b[0m, in \u001b[0;36mscipy_cube\u001b[1;34m(objective, n_trials, n_dim, with_count, method)\u001b[0m\n\u001b[0;32m     26\u001b[0m     feval_count \u001b[38;5;241m+\u001b[39m\u001b[38;5;241m=\u001b[39m\u001b[38;5;241m1\u001b[39m\n\u001b[0;32m     27\u001b[0m     \u001b[38;5;28;01mreturn\u001b[39;00m objective(\u001b[38;5;28mlist\u001b[39m(x))\n\u001b[1;32m---> 29\u001b[0m result \u001b[38;5;241m=\u001b[39m \u001b[43mminimize\u001b[49m\u001b[43m(\u001b[49m\u001b[43m_objective\u001b[49m\u001b[43m,\u001b[49m\u001b[43m \u001b[49m\u001b[43mx0\u001b[49m\u001b[38;5;241;43m=\u001b[39;49m\u001b[43m[\u001b[49m\u001b[38;5;241;43m0\u001b[39;49m\u001b[43m]\u001b[49m\u001b[38;5;241;43m*\u001b[39;49m\u001b[43mn_dim\u001b[49m\u001b[43m,\u001b[49m\u001b[43m \u001b[49m\u001b[43mmethod\u001b[49m\u001b[38;5;241;43m=\u001b[39;49m\u001b[43moptions\u001b[49m\u001b[43m[\u001b[49m\u001b[38;5;124;43m'\u001b[39;49m\u001b[38;5;124;43mmethod\u001b[39;49m\u001b[38;5;124;43m'\u001b[39;49m\u001b[43m]\u001b[49m\u001b[43m,\u001b[49m\u001b[43mbounds\u001b[49m\u001b[38;5;241;43m=\u001b[39;49m\u001b[43mbounds\u001b[49m\u001b[43m,\u001b[49m\u001b[43m \u001b[49m\u001b[43moptions\u001b[49m\u001b[38;5;241;43m=\u001b[39;49m\u001b[43moptions\u001b[49m\u001b[43m)\u001b[49m\n\u001b[0;32m     30\u001b[0m best_x \u001b[38;5;241m=\u001b[39m result\u001b[38;5;241m.\u001b[39mx\u001b[38;5;241m.\u001b[39mtolist()\n\u001b[0;32m     31\u001b[0m best_val \u001b[38;5;241m=\u001b[39m _objective(result\u001b[38;5;241m.\u001b[39mx)\n",
      "File \u001b[1;32mc:\\users\\bkmz1\\pycharmprojects\\diplom\\venv\\lib\\site-packages\\scipy\\optimize\\_minimize.py:687\u001b[0m, in \u001b[0;36mminimize\u001b[1;34m(fun, x0, args, method, jac, hess, hessp, bounds, constraints, tol, callback, options)\u001b[0m\n\u001b[0;32m    684\u001b[0m     res \u001b[38;5;241m=\u001b[39m _minimize_neldermead(fun, x0, args, callback, bounds\u001b[38;5;241m=\u001b[39mbounds,\n\u001b[0;32m    685\u001b[0m                                \u001b[38;5;241m*\u001b[39m\u001b[38;5;241m*\u001b[39moptions)\n\u001b[0;32m    686\u001b[0m \u001b[38;5;28;01melif\u001b[39;00m meth \u001b[38;5;241m==\u001b[39m \u001b[38;5;124m'\u001b[39m\u001b[38;5;124mpowell\u001b[39m\u001b[38;5;124m'\u001b[39m:\n\u001b[1;32m--> 687\u001b[0m     res \u001b[38;5;241m=\u001b[39m _minimize_powell(fun, x0, args, callback, bounds, \u001b[38;5;241m*\u001b[39m\u001b[38;5;241m*\u001b[39moptions)\n\u001b[0;32m    688\u001b[0m \u001b[38;5;28;01melif\u001b[39;00m meth \u001b[38;5;241m==\u001b[39m \u001b[38;5;124m'\u001b[39m\u001b[38;5;124mcg\u001b[39m\u001b[38;5;124m'\u001b[39m:\n\u001b[0;32m    689\u001b[0m     res \u001b[38;5;241m=\u001b[39m _minimize_cg(fun, x0, args, jac, callback, \u001b[38;5;241m*\u001b[39m\u001b[38;5;241m*\u001b[39moptions)\n",
      "File \u001b[1;32mc:\\users\\bkmz1\\pycharmprojects\\diplom\\venv\\lib\\site-packages\\scipy\\optimize\\_optimize.py:3346\u001b[0m, in \u001b[0;36m_minimize_powell\u001b[1;34m(func, x0, args, callback, bounds, xtol, ftol, maxiter, maxfev, disp, direc, return_all, **unknown_options)\u001b[0m\n\u001b[0;32m   3344\u001b[0m direc1 \u001b[38;5;241m=\u001b[39m direc[i]\n\u001b[0;32m   3345\u001b[0m fx2 \u001b[38;5;241m=\u001b[39m fval\n\u001b[1;32m-> 3346\u001b[0m fval, x, direc1 \u001b[38;5;241m=\u001b[39m \u001b[43m_linesearch_powell\u001b[49m\u001b[43m(\u001b[49m\u001b[43mfunc\u001b[49m\u001b[43m,\u001b[49m\u001b[43m \u001b[49m\u001b[43mx\u001b[49m\u001b[43m,\u001b[49m\u001b[43m \u001b[49m\u001b[43mdirec1\u001b[49m\u001b[43m,\u001b[49m\n\u001b[0;32m   3347\u001b[0m \u001b[43m                                     \u001b[49m\u001b[43mtol\u001b[49m\u001b[38;5;241;43m=\u001b[39;49m\u001b[43mxtol\u001b[49m\u001b[43m \u001b[49m\u001b[38;5;241;43m*\u001b[39;49m\u001b[43m \u001b[49m\u001b[38;5;241;43m100\u001b[39;49m\u001b[43m,\u001b[49m\n\u001b[0;32m   3348\u001b[0m \u001b[43m                                     \u001b[49m\u001b[43mlower_bound\u001b[49m\u001b[38;5;241;43m=\u001b[39;49m\u001b[43mlower_bound\u001b[49m\u001b[43m,\u001b[49m\n\u001b[0;32m   3349\u001b[0m \u001b[43m                                     \u001b[49m\u001b[43mupper_bound\u001b[49m\u001b[38;5;241;43m=\u001b[39;49m\u001b[43mupper_bound\u001b[49m\u001b[43m,\u001b[49m\n\u001b[0;32m   3350\u001b[0m \u001b[43m                                     \u001b[49m\u001b[43mfval\u001b[49m\u001b[38;5;241;43m=\u001b[39;49m\u001b[43mfval\u001b[49m\u001b[43m)\u001b[49m\n\u001b[0;32m   3351\u001b[0m \u001b[38;5;28;01mif\u001b[39;00m (fx2 \u001b[38;5;241m-\u001b[39m fval) \u001b[38;5;241m>\u001b[39m delta:\n\u001b[0;32m   3352\u001b[0m     delta \u001b[38;5;241m=\u001b[39m fx2 \u001b[38;5;241m-\u001b[39m fval\n",
      "File \u001b[1;32mc:\\users\\bkmz1\\pycharmprojects\\diplom\\venv\\lib\\site-packages\\scipy\\optimize\\_optimize.py:3035\u001b[0m, in \u001b[0;36m_linesearch_powell\u001b[1;34m(func, p, xi, tol, lower_bound, upper_bound, fval)\u001b[0m\n\u001b[0;32m   3032\u001b[0m     \u001b[38;5;28;01mreturn\u001b[39;00m _linesearch_powell(func, p, xi, fval\u001b[38;5;241m=\u001b[39mfval, tol\u001b[38;5;241m=\u001b[39mtol)\n\u001b[0;32m   3033\u001b[0m \u001b[38;5;28;01melif\u001b[39;00m \u001b[38;5;129;01mnot\u001b[39;00m np\u001b[38;5;241m.\u001b[39misneginf(bound[\u001b[38;5;241m0\u001b[39m]) \u001b[38;5;129;01mand\u001b[39;00m \u001b[38;5;129;01mnot\u001b[39;00m np\u001b[38;5;241m.\u001b[39misposinf(bound[\u001b[38;5;241m1\u001b[39m]):\n\u001b[0;32m   3034\u001b[0m     \u001b[38;5;66;03m# we can use a bounded scalar minimization\u001b[39;00m\n\u001b[1;32m-> 3035\u001b[0m     res \u001b[38;5;241m=\u001b[39m \u001b[43m_minimize_scalar_bounded\u001b[49m\u001b[43m(\u001b[49m\u001b[43mmyfunc\u001b[49m\u001b[43m,\u001b[49m\u001b[43m \u001b[49m\u001b[43mbound\u001b[49m\u001b[43m,\u001b[49m\u001b[43m \u001b[49m\u001b[43mxatol\u001b[49m\u001b[38;5;241;43m=\u001b[39;49m\u001b[43mtol\u001b[49m\u001b[43m \u001b[49m\u001b[38;5;241;43m/\u001b[39;49m\u001b[43m \u001b[49m\u001b[38;5;241;43m100\u001b[39;49m\u001b[43m)\u001b[49m\n\u001b[0;32m   3036\u001b[0m     xi \u001b[38;5;241m=\u001b[39m res\u001b[38;5;241m.\u001b[39mx \u001b[38;5;241m*\u001b[39m xi\n\u001b[0;32m   3037\u001b[0m     \u001b[38;5;28;01mreturn\u001b[39;00m squeeze(res\u001b[38;5;241m.\u001b[39mfun), p \u001b[38;5;241m+\u001b[39m xi, xi\n",
      "File \u001b[1;32mc:\\users\\bkmz1\\pycharmprojects\\diplom\\venv\\lib\\site-packages\\scipy\\optimize\\_optimize.py:2299\u001b[0m, in \u001b[0;36m_minimize_scalar_bounded\u001b[1;34m(func, bounds, args, xatol, maxiter, disp, **unknown_options)\u001b[0m\n\u001b[0;32m   2296\u001b[0m         flag \u001b[38;5;241m=\u001b[39m \u001b[38;5;241m1\u001b[39m\n\u001b[0;32m   2297\u001b[0m         \u001b[38;5;28;01mbreak\u001b[39;00m\n\u001b[1;32m-> 2299\u001b[0m \u001b[38;5;28;01mif\u001b[39;00m np\u001b[38;5;241m.\u001b[39misnan(xf) \u001b[38;5;129;01mor\u001b[39;00m \u001b[43mnp\u001b[49m\u001b[38;5;241;43m.\u001b[39;49m\u001b[43misnan\u001b[49m\u001b[43m(\u001b[49m\u001b[43mfx\u001b[49m\u001b[43m)\u001b[49m \u001b[38;5;129;01mor\u001b[39;00m np\u001b[38;5;241m.\u001b[39misnan(fu):\n\u001b[0;32m   2300\u001b[0m     flag \u001b[38;5;241m=\u001b[39m \u001b[38;5;241m2\u001b[39m\n\u001b[0;32m   2302\u001b[0m fval \u001b[38;5;241m=\u001b[39m fx\n",
      "\u001b[1;31mTypeError\u001b[0m: ufunc 'isnan' not supported for the input types, and the inputs could not be safely coerced to any supported types according to the casting rule ''safe''"
     ]
    }
   ],
   "source": [
    "from humpday import recommend\n",
    "from humpday.optimizers.alloptimizers import optimizer_from_name\n",
    "\n",
    "from mpmath import coth\n",
    "from scipy.optimize import shgo, dual_annealing\n",
    "\n",
    "import numpy as np\n",
    "\n",
    "\n",
    "class OptimizationResult:\n",
    "    def __init__(self, p, mus):\n",
    "        self.p = p\n",
    "        self.mus = mus\n",
    "\n",
    "\n",
    "def L(z):\n",
    "    if z == 0:\n",
    "        return 0\n",
    "    return coth(z) - 1/z\n",
    "\n",
    "\n",
    "def get_sum(arr):\n",
    "    sum = 0\n",
    "    for e in arr:\n",
    "        sum += e\n",
    "    return e\n",
    "\n",
    "\n",
    "def M_func(params, mus, a_arg, b_arg, H_i):\n",
    "    sum = 0\n",
    "    ro = params[0]\n",
    "    p = params[1:]\n",
    "\n",
    "    p_I = 1 - get_sum(p)\n",
    "    p = np.append(p, p_I)\n",
    "\n",
    "    for k in range(len(p)):\n",
    "        sum += p[k] * mus[k] * L(b_arg * mus[k] * H_i)\n",
    "    \n",
    "    return a_arg * ro * sum\n",
    "\n",
    "\n",
    "def get_mus(start, step):\n",
    "    res = [start]\n",
    "\n",
    "    cur_mu = start\n",
    "    for i in range(I - 1):\n",
    "        cur_mu += step \n",
    "        res.append(cur_mu)\n",
    "\n",
    "    return res\n",
    "\n",
    "\n",
    "def optimization_func(params, mus):\n",
    "    sum = 0\n",
    "    \n",
    "    for i in range(n):\n",
    "        sum += (M_func(params, mus, a, b, H[i]) - M[i]) ** 2\n",
    "\n",
    "    return sum\n",
    "\n",
    "\n",
    "mu_border = -10000\n",
    "optimization_iterations = []\n",
    "while True:\n",
    "    mus = get_mus(mu_min, mu_step)\n",
    "    print(f'm: {mus}')\n",
    "    if mu_border >= mus[1]:\n",
    "        break\n",
    "    \n",
    "    if mu_border == -10000:\n",
    "        mu_border = mus[1]\n",
    "    \n",
    "    optimizer_name = recommend(lambda p: optimization_func(p, mus), n_dim=6, n_trials=1500)[-1][-1]\n",
    "    print(f\"optimizer: {optimizer_name}\")\n",
    "    optimizer_func = optimizer_from_name(optimizer_name)\n",
    "    \n",
    "    best_val, best_x = optimizer_func(lambda p: optimization_func(p, mus), n_dim=6, n_trials=1500)\n",
    "    print(f\"val: {best_val}\")\n",
    "    print(f\"params: {best_x}\")\n"
   ]
  },
  {
   "cell_type": "code",
   "execution_count": null,
   "id": "17f2762b",
   "metadata": {},
   "outputs": [],
   "source": []
  }
 ],
 "metadata": {
  "kernelspec": {
   "display_name": "Python 3 (ipykernel)",
   "language": "python",
   "name": "python3"
  },
  "language_info": {
   "codemirror_mode": {
    "name": "ipython",
    "version": 3
   },
   "file_extension": ".py",
   "mimetype": "text/x-python",
   "name": "python",
   "nbconvert_exporter": "python",
   "pygments_lexer": "ipython3",
   "version": "3.9.2"
  }
 },
 "nbformat": 4,
 "nbformat_minor": 5
}
