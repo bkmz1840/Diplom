{
 "cells": [
  {
   "cell_type": "markdown",
   "id": "d774bb4d",
   "metadata": {},
   "source": [
    "# Визуализация"
   ]
  },
  {
   "cell_type": "markdown",
   "id": "33bf4912",
   "metadata": {},
   "source": [
    "## Входные данные"
   ]
  },
  {
   "cell_type": "code",
   "execution_count": 8,
   "id": "99d5d6c3",
   "metadata": {},
   "outputs": [
    {
     "name": "stdout",
     "output_type": "stream",
     "text": [
      "|     H     |     M     |\n",
      "|-----------|-----------|\n",
      "|    0.0    |    0.0    |\n",
      "|-----------|-----------|\n",
      "|  1180.938 |  2556.283 |\n",
      "|-----------|-----------|\n",
      "|  2440.104 |  4428.242 |\n",
      "|-----------|-----------|\n",
      "|  4031.793 |  6027.773 |\n",
      "|-----------|-----------|\n",
      "|  5229.511 |  6910.699 |\n",
      "|-----------|-----------|\n",
      "|  7626.041 |  8221.296 |\n",
      "|-----------|-----------|\n",
      "|  10699.36 |  9410.598 |\n",
      "|-----------|-----------|\n",
      "|  14474.99 |  10489.65 |\n",
      "|-----------|-----------|\n",
      "|  19641.84 |  11595.96 |\n",
      "|-----------|-----------|\n",
      "|  24962.42 |  12474.35 |\n",
      "|-----------|-----------|\n",
      "|  31840.19 |  13369.09 |\n",
      "|-----------|-----------|\n",
      "|  42980.77 |  14446.37 |\n",
      "|-----------|-----------|\n",
      "|  52399.15 |  15123.58 |\n",
      "|-----------|-----------|\n",
      "|  63757.78 |  15761.81 |\n",
      "|-----------|-----------|\n",
      "|  79328.52 |  16431.62 |\n",
      "|-----------|-----------|\n",
      "|  95193.2  |  16956.37 |\n",
      "|-----------|-----------|\n",
      "|  125468.2 |  17695.34 |\n",
      "|-----------|-----------|\n",
      "|  155054.4 |  18206.03 |\n",
      "|-----------|-----------|\n",
      "|  185547.2 |  18599.44 |\n",
      "|-----------|-----------|\n",
      "|  213781.0 |  18883.3  |\n",
      "|-----------|-----------|\n",
      "|  241325.7 |  19096.08 |\n",
      "|-----------|-----------|\n",
      "|  268296.1 |  19260.66 |\n",
      "|___________|___________|\n",
      "Температура среды T: 290\n"
     ]
    }
   ],
   "source": [
    "import math\n",
    "\n",
    "\n",
    "def add_row(num):\n",
    "    divider = (11 - len(str(num))) / 2\n",
    "    if round(divider) == divider:\n",
    "        d = int(divider)\n",
    "        return f\"{' ' * d}{num}{' ' * d}\"\n",
    "\n",
    "    l = int(math.ceil(divider))\n",
    "    r = int(math.floor(divider))\n",
    "    return f\"{' ' * l}{num}{' ' * r}\"\n",
    "\n",
    "\n",
    "def form_table(lines):\n",
    "    rows = ['|     H     |     M     |']\n",
    "    divider = '|-----------|-----------|'\n",
    "\n",
    "    for line in lines:\n",
    "        rows.append(divider)\n",
    "        mapped_line = list(map(float, line.split(' ')))\n",
    "        row_x = add_row(round(mapped_line[0], 5))\n",
    "        row_y = add_row(round(mapped_line[1], 5))\n",
    "        rows.append(f'|{row_x}|{row_y}|')\n",
    "\n",
    "    rows.append('|___________|___________|')\n",
    "    table = '\\n'.join(rows)\n",
    "    return table\n",
    "\n",
    "\n",
    "with open('input.txt') as f:\n",
    "    data = f.read().split('\\n')\n",
    "\n",
    "print(form_table(data))\n",
    "\n",
    "T = 290\n",
    "n = len(data)\n",
    "print(f'Температура среды T: {T}')"
   ]
  },
  {
   "cell_type": "code",
   "execution_count": 9,
   "id": "bf76a1db",
   "metadata": {
    "scrolled": false
   },
   "outputs": [
    {
     "data": {
      "image/png": "[encoded data removed]",
      "text/plain": [
       "<Figure size 640x480 with 1 Axes>"
      ]
     },
     "metadata": {},
     "output_type": "display_data"
    }
   ],
   "source": [
    "import matplotlib.pyplot as plt\n",
    "\n",
    "\n",
    "input_data = []\n",
    "for line in data:\n",
    "    mapped_line = map(float, line.split(' '))\n",
    "    point = list(mapped_line)\n",
    "    input_data.append(point)\n",
    "\n",
    "H = list(map(lambda e: e[0], input_data))\n",
    "M = list(map(lambda e: e[1], input_data))\n",
    "\n",
    "plt.grid()\n",
    "plt.plot(H, M)\n",
    "plt.show()"
   ]
  },
  {
   "cell_type": "markdown",
   "id": "89dc4293",
   "metadata": {},
   "source": [
    "$$M_L = \\rho\\sum\\limits_{k=1}^I{\\mu_kp_kL(\\frac{\\mu_0\\mu_kH}{k_BT})}$$\n",
    "Где:\n",
    "* $\\rho$ - концентрация частиц\n",
    "* $I$ - количество фракций, на которые разбиваются частицы по размеру\n",
    "* $p_k=\\frac{\\rho_k}{\\rho}$ - отношение частиц k-ой фракции к общей концентрации. Тогда $\\sum\\limits_{k=1}^I{p_k} = 1$\n",
    "* $L(z)=\\coth{z} - \\frac{1}{z}$ - функция Ланжевена\n",
    "* $\\mu_0$ - магнитная проницаемость вакуума\n",
    "* $k_B$ - постоянная Больцмана\n",
    "* $T$ - абсолютная температура"
   ]
  },
  {
   "cell_type": "markdown",
   "id": "d2bf3486",
   "metadata": {},
   "source": [
    "Приведем величин к безразмерным. Для этого введем реперные значения:"
   ]
  },
  {
   "cell_type": "code",
   "execution_count": 10,
   "id": "7824caab",
   "metadata": {},
   "outputs": [
    {
     "name": "stdout",
     "output_type": "stream",
     "text": [
      "Реперное значение темературы: 273 K\n",
      "Реперное значение mu: 1e-19 А²∙м\n",
      "Реперное значение H: 100 кА/м\n",
      "Реперное значение ro: 10000000000000000000000 1/м^3\n"
     ]
    }
   ],
   "source": [
    "T_r = 273\n",
    "mu_r = 10 ** (-19)\n",
    "H_r = 100\n",
    "ro_r = 10 ** 22\n",
    "\n",
    "mu_0 = 1.256637\n",
    "k_b = 1.380649\n",
    "\n",
    "print(f\"Реперное значение темературы: {T_r} K\")\n",
    "print(f\"Реперное значение mu: {mu_r} А²∙м\")\n",
    "print(f\"Реперное значение H: {H_r} кА/м\")\n",
    "print(f\"Реперное значение ro: {ro_r} 1/м^3\")"
   ]
  },
  {
   "cell_type": "markdown",
   "id": "2759269e",
   "metadata": {},
   "source": [
    "Таблица входных данных с безразмерными величинами:"
   ]
  },
  {
   "cell_type": "code",
   "execution_count": 11,
   "id": "3049764e",
   "metadata": {},
   "outputs": [
    {
     "name": "stdout",
     "output_type": "stream",
     "text": [
      "|     H     |     M     |\n",
      "|-----------|-----------|\n",
      "|    0.0    |    0.0    |\n",
      "|-----------|-----------|\n",
      "|  11.80938 |  0.13272  |\n",
      "|-----------|-----------|\n",
      "|  24.40104 |  0.22991  |\n",
      "|-----------|-----------|\n",
      "|  40.31793 |  0.31296  |\n",
      "|-----------|-----------|\n",
      "|  52.29511 |   0.3588  |\n",
      "|-----------|-----------|\n",
      "|  76.26041 |  0.42684  |\n",
      "|-----------|-----------|\n",
      "|  106.9936 |  0.48859  |\n",
      "|-----------|-----------|\n",
      "|  144.7499 |  0.54462  |\n",
      "|-----------|-----------|\n",
      "|  196.4184 |  0.60205  |\n",
      "|-----------|-----------|\n",
      "|  249.6242 |  0.64766  |\n",
      "|-----------|-----------|\n",
      "|  318.4019 |  0.69411  |\n",
      "|-----------|-----------|\n",
      "|  429.8077 |  0.75005  |\n",
      "|-----------|-----------|\n",
      "|  523.9915 |  0.78521  |\n",
      "|-----------|-----------|\n",
      "|  637.5778 |  0.81834  |\n",
      "|-----------|-----------|\n",
      "|  793.2852 |  0.85312  |\n",
      "|-----------|-----------|\n",
      "|  951.932  |  0.88036  |\n",
      "|-----------|-----------|\n",
      "|  1254.682 |  0.91873  |\n",
      "|-----------|-----------|\n",
      "|  1550.544 |  0.94524  |\n",
      "|-----------|-----------|\n",
      "|  1855.472 |  0.96567  |\n",
      "|-----------|-----------|\n",
      "|  2137.81  |  0.98041  |\n",
      "|-----------|-----------|\n",
      "|  2413.257 |  0.99146  |\n",
      "|-----------|-----------|\n",
      "|  2682.961 |    1.0    |\n",
      "|___________|___________|\n",
      "Реперное значение M: 19260.66 кА/м\n"
     ]
    }
   ],
   "source": [
    "H_w = [h / H_r for h in H]\n",
    "M_r = max(M)\n",
    "M_w = [m / M_r for m in M]\n",
    "T_w = T / T_r\n",
    "\n",
    "lines = []\n",
    "for i, h in enumerate(H_w):\n",
    "    lines.append(f'{h} {M_w[i]}')\n",
    "\n",
    "print(form_table(lines))\n",
    "print(f\"Реперное значение M: {M_r} кА/м\")"
   ]
  },
  {
   "cell_type": "markdown",
   "id": "9c3387b2",
   "metadata": {},
   "source": [
    "Приведем формулу к безразмерному виду, где переменные со звездой - реперные значения, а с волной - абезрамеренные:\n",
    "$$\\tilde{M_L} = \\frac{\\rho_*\\mu_*}{M_*}\\tilde{\\rho}\\sum\\limits_{k=1}^I{p_k\\tilde{\\mu_k}L(\\frac{\\mu_0\\mu_*H_*}{k_BT}\\tilde{\\mu_k}\\tilde{H})}$$\n",
    "Введем обозначения коэффициентов:\n",
    "* $a = \\frac{\\rho_*\\mu_*}{M_*}$\n",
    "* $b = \\frac{\\mu_0\\mu_*H_*}{k_BT}$\n",
    "\n",
    "Тогда:\n",
    "$$\\tilde{M_L} = a\\tilde{\\rho}\\sum\\limits_{k=1}^I{p_k\\tilde{\\mu_k}L(b\\tilde{\\mu_k}\\tilde{H})}$$\n",
    "$\\mu_0 = 1.256637 * 10^{-6}$ H/A^2\n",
    "\n",
    "$k_B = 1.380649 * 10^{-23}$ Дж/К"
   ]
  },
  {
   "cell_type": "code",
   "execution_count": 12,
   "id": "e808e311",
   "metadata": {},
   "outputs": [
    {
     "name": "stdout",
     "output_type": "stream",
     "text": [
      "Посчитаем a и b:\n",
      "a: 0.05191930079239237\n",
      "b: 0.8568231841791745\n"
     ]
    }
   ],
   "source": [
    "print('Посчитаем a и b:')\n",
    "\n",
    "a = 1000 / M_r  # mu_r * ro_r = 10^(-19) * 10^22 = 1000\n",
    "b = (mu_0 * 1 * 1) / (k_b * T_w)  # Степени 10 сократились\n",
    "\n",
    "print(f'a: {a}')\n",
    "print(f'b: {b}')"
   ]
  },
  {
   "cell_type": "code",
   "execution_count": 13,
   "id": "db04d269",
   "metadata": {},
   "outputs": [
    {
     "data": {
      "text/latex": [
       "Разобъем частицы на $I = 6$ фракций."
      ],
      "text/plain": [
       "<IPython.core.display.Latex object>"
      ]
     },
     "metadata": {},
     "output_type": "display_data"
    },
    {
     "data": {
      "text/latex": [
       "Будем считать, что $\\mu_k$ нам известно. Величины будут располагаться в $[-1.1; 1.3]$ с шагом $0.4$"
      ],
      "text/plain": [
       "<IPython.core.display.Latex object>"
      ]
     },
     "metadata": {},
     "output_type": "display_data"
    }
   ],
   "source": [
    "from IPython.display import display, Latex\n",
    "\n",
    "I = 6\n",
    "mu_min = -1.1\n",
    "mu_max = 1.3\n",
    "mu_step = 0.4\n",
    "display(Latex(f'Разобъем частицы на $I = {I}$ фракций.'))\n",
    "display(Latex(f'Будем считать, что $\\mu_k$ нам известно. Величины будут располагаться в $[{mu_min}; {mu_max}]$ с шагом ${mu_step}$'))"
   ]
  },
  {
   "cell_type": "markdown",
   "id": "ed5662b2",
   "metadata": {},
   "source": [
    "Получается в исходном абезразмеренном выражении 6 неизвестных: $\\tilde{\\rho}, p_k, k = 1..(I-1)$, $p_k = 1 - \\sum\\limits_{i=1}^{I - 1}{p_i}$\n",
    "\n",
    "Проведем минимизацию. Минимизировать будем выражение ($n$ - количество входных данных):\n",
    "$$\\sum\\limits_{j=1}^{n}{(\\tilde{M_L}(H_j) - \\tilde{M_j})^2}$$"
   ]
  },
  {
   "cell_type": "code",
   "execution_count": 31,
   "id": "f8231d90",
   "metadata": {},
   "outputs": [
    {
     "name": "stdout",
     "output_type": "stream",
     "text": [
      "m: [-1.1, -0.7000000000000001, -0.30000000000000004, 0.09999999999999998, 0.5, 0.9]\n",
      "Res success: True\n",
      "m: [-1.05, -0.65, -0.25, 0.15000000000000002, 0.55, 0.9500000000000001]\n",
      "Res success: False\n",
      "Res success: True\n",
      "m: [-1.0, -0.6, -0.19999999999999996, 0.20000000000000007, 0.6000000000000001, 1.0]\n",
      "Res success: True\n",
      "m: [-0.95, -0.5499999999999999, -0.1499999999999999, 0.2500000000000001, 0.6500000000000001, 1.0500000000000003]\n",
      "Res success: False\n",
      "Res success: False\n",
      "Res success: False\n",
      "Res success: False\n",
      "Res success: False\n",
      "Res success: False\n",
      "Res success: False\n",
      "Res success: False\n",
      "Res success: True\n",
      "m: [-0.8999999999999999, -0.4999999999999999, -0.09999999999999987, 0.30000000000000016, 0.7000000000000002, 1.1]\n",
      "Res success: False\n",
      "Res success: False\n",
      "Res success: False\n",
      "Res success: True\n",
      "m: [-0.8499999999999999, -0.44999999999999984, -0.04999999999999982, 0.3500000000000002, 0.7500000000000002, 1.1500000000000004]\n",
      "Res success: False\n",
      "Res success: True\n",
      "m: [-0.7999999999999998, -0.3999999999999998, 2.220446049250313e-16, 0.40000000000000024, 0.8000000000000003, 1.2000000000000002]\n",
      "Res success: False\n",
      "Res success: False\n",
      "Res success: False\n",
      "Res success: False\n",
      "Res success: False\n",
      "Res success: False\n",
      "Res success: False\n",
      "Res success: False\n",
      "Res success: False\n",
      "Res success: False\n",
      "Res success: False\n",
      "Res success: False\n",
      "Res success: False\n",
      "Res success: False\n",
      "Res success: True\n",
      "m: [-0.7499999999999998, -0.34999999999999976, 0.050000000000000266, 0.4500000000000003, 0.8500000000000003, 1.2500000000000004]\n",
      "Res success: False\n",
      "Res success: False\n",
      "Res success: True\n",
      "BREAK: -0.7000000000000001 --- -0.6999999999999997\n",
      "|                      mu                       | |                       p                       |\n",
      "|-----------------------------------------------| |-----------------------------------------------|\n",
      "|  -1.1 |  -0.7 |  -0.3 |  0.1  |  0.5  |  0.9  | |  0.0  |  0.0  |  0.0  |  0.99 |  0.0  |  0.01 |\n",
      "| -1.05 | -0.65 | -0.25 |  0.15 |  0.55 |  0.95 | |  0.0  |  0.0  |  0.0  |  0.99 |  0.0  |  0.01 |\n",
      "|  -1.0 |  -0.6 |  -0.2 |  0.2  |  0.6  |  1.0  | |  0.0  |  0.0  |  0.94 |  0.04 |  0.0  |  0.01 |\n",
      "| -0.95 | -0.55 | -0.15 |  0.25 |  0.65 |  1.05 | |  0.0  |  0.0  |  0.99 |  0.0  |  0.0  |  0.01 |\n",
      "|  -0.9 |  -0.5 |  -0.1 |  0.3  |  0.7  |  1.1  | |  0.0  |  0.0  |  0.99 |  0.0  |  0.0  |  0.01 |\n",
      "| -0.85 | -0.45 | -0.05 |  0.35 |  0.75 |  1.15 | |  0.0  |  0.0  |  1.0  |  0.0  |  0.0  |  0.0  |\n",
      "|  -0.8 |  -0.4 |  0.0  |  0.4  |  0.8  |  1.2  | |  0.0  |  0.47 |  0.04 |  0.47 |  0.0  |  0.02 |\n",
      "| -0.75 | -0.35 |  0.05 |  0.45 |  0.85 |  1.25 | |  0.0  |  0.0  |  1.0  |  0.0  |  0.0  |  0.0  |\n",
      "|-----------------------------------------------| |-----------------------------------------------|\n"
     ]
    }
   ],
   "source": [
    "from scipy.optimize import minimize\n",
    "\n",
    "from opt import *\n",
    "\n",
    "\n",
    "mu_border = -10000\n",
    "optimization_iterations = []\n",
    "optimizers = {}\n",
    "bounds = [\n",
    "    [1, 1.3],\n",
    "    [0, 1],\n",
    "    [0, 1],\n",
    "    [0, 1],\n",
    "    [0, 1],\n",
    "    [0, 1],\n",
    "    [0, 1],\n",
    "]\n",
    "constraints = ({'type': 'eq', \"fun\": constraint})\n",
    "cur_mu_min = mu_min\n",
    "result = []\n",
    "not_success = False\n",
    "while True:\n",
    "    \n",
    "    if not not_success:\n",
    "        mus = get_mus(cur_mu_min, mu_step, I)\n",
    "\n",
    "        if mu_border == -10000:\n",
    "            mu_border = mus[1]\n",
    "\n",
    "        if abs(mu_border - mus[0]) <= 10 ** (-6):\n",
    "            print(f'BREAK: {mu_border} --- {mus[0]}')\n",
    "            break\n",
    "\n",
    "        print(f'm: {mus}')\n",
    "        cur_mu_min += 0.05\n",
    "    else:\n",
    "        not_success = False\n",
    "    \n",
    "    initial_guess = [1]\n",
    "    initial_guess.extend(get_start_guess(6))\n",
    "\n",
    "    res = minimize(\n",
    "        lambda p: optimization_func(p, mus, n, a, b, H_w, M_w),\n",
    "        initial_guess,\n",
    "        bounds=bounds,\n",
    "        constraints=constraints\n",
    "    )\n",
    "    \n",
    "    print(f'Res success: {res.success}')\n",
    "    if not res.success:\n",
    "        not_success = True\n",
    "        continue\n",
    "    \n",
    "    found_params = list(res.x)[1:]\n",
    "    result.append(OptimizationResult(found_params, mus))\n",
    "\n",
    "header = \"|\" + \" \" * 22 + \"mu\" + \" \" * 23 + \"| |\" + \" \" * 23 + \"p\" + \" \" * 23 + \"|\"\n",
    "splitter = \"|\" + \"-\" * (7 * 6 + 5) + \"| |\" + \"-\" * (7 * 6 + 5) + \"|\"\n",
    "print(header)\n",
    "print(splitter)\n",
    "for r in result:\n",
    "    print(r.form_line())\n",
    "print(splitter)"
   ]
  },
  {
   "cell_type": "code",
   "execution_count": 30,
   "id": "17f2762b",
   "metadata": {},
   "outputs": [
    {
     "data": {
      "image/png": "[encoded data removed]",
      "text/plain": [
       "<Figure size 640x480 with 1 Axes>"
      ]
     },
     "metadata": {},
     "output_type": "display_data"
    }
   ],
   "source": [
    "x = []\n",
    "y = []\n",
    "for r in result:\n",
    "    x.extend(map(lambda e: round(e, 2), r.mus))\n",
    "    y.extend(map(lambda e: round(e, 2), r.p))\n",
    "\n",
    "plt.grid()\n",
    "plt.scatter(x, y)\n",
    "plt.show()"
   ]
  },
  {
   "cell_type": "code",
   "execution_count": null,
   "id": "d1ada313",
   "metadata": {},
   "outputs": [],
   "source": []
  }
 ],
 "metadata": {
  "kernelspec": {
   "display_name": "Python 3 (ipykernel)",
   "language": "python",
   "name": "python3"
  },
  "language_info": {
   "codemirror_mode": {
    "name": "ipython",
    "version": 3
   },
   "file_extension": ".py",
   "mimetype": "text/x-python",
   "name": "python",
   "nbconvert_exporter": "python",
   "pygments_lexer": "ipython3",
   "version": "3.9.2"
  }
 },
 "nbformat": 4,
 "nbformat_minor": 5
}
